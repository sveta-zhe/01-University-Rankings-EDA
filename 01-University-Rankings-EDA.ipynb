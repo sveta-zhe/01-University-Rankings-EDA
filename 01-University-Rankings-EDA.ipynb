{
 "cells": [
  {
   "cell_type": "markdown",
   "id": "c766aaa6-a512-4c6d-99f9-d50f0316b89e",
   "metadata": {},
   "source": [
    "# World University Rankings"
   ]
  },
  {
   "cell_type": "markdown",
   "id": "a2ce29ad-29e7-4815-8553-7a38979e93b3",
   "metadata": {},
   "source": [
    "### About Dataset"
   ]
  },
  {
   "cell_type": "markdown",
   "id": "f2f58147-ad64-431c-96e3-833b49ac618d",
   "metadata": {},
   "source": [
    "###### This dataset is taken from the site https://www.kaggle.com/ for educational purposes."
   ]
  },
  {
   "cell_type": "markdown",
   "id": "4b51ffbb-ba7c-42ad-83f4-a32c0e7331c7",
   "metadata": {},
   "source": [
    "https://www.kaggle.com/datasets/mylesoneill/world-university-rankings"
   ]
  },
  {
   "cell_type": "markdown",
   "id": "359b30f5-fd31-4454-9a0f-148993ab550f",
   "metadata": {},
   "source": [
    "### Loading data"
   ]
  },
  {
   "cell_type": "code",
   "execution_count": 6,
   "id": "3a3ef50a-2620-4b46-ba60-32e5150ca7ea",
   "metadata": {},
   "outputs": [],
   "source": [
    "import numpy as np\n",
    "import pandas as pd\n",
    "import matplotlib.pyplot as plt\n",
    "plt.style.use('dark_background')\n",
    "import seaborn as sns"
   ]
  },
  {
   "cell_type": "code",
   "execution_count": 7,
   "id": "09d0bbb4-96c6-4c4d-b36c-a6e5da84b9da",
   "metadata": {},
   "outputs": [
    {
     "name": "stdout",
     "output_type": "stream",
     "text": [
      "Requirement already satisfied: phik in c:\\anaconda\\lib\\site-packages (0.12.4)\n",
      "Requirement already satisfied: numpy>=1.18.0 in c:\\anaconda\\lib\\site-packages (from phik) (1.26.4)\n",
      "Requirement already satisfied: scipy>=1.5.2 in c:\\anaconda\\lib\\site-packages (from phik) (1.13.1)\n",
      "Requirement already satisfied: pandas>=0.25.1 in c:\\anaconda\\lib\\site-packages (from phik) (2.2.2)\n",
      "Requirement already satisfied: matplotlib>=2.2.3 in c:\\anaconda\\lib\\site-packages (from phik) (3.8.4)\n",
      "Requirement already satisfied: joblib>=0.14.1 in c:\\anaconda\\lib\\site-packages (from phik) (1.4.2)\n",
      "Requirement already satisfied: contourpy>=1.0.1 in c:\\anaconda\\lib\\site-packages (from matplotlib>=2.2.3->phik) (1.2.0)\n",
      "Requirement already satisfied: cycler>=0.10 in c:\\anaconda\\lib\\site-packages (from matplotlib>=2.2.3->phik) (0.11.0)\n",
      "Requirement already satisfied: fonttools>=4.22.0 in c:\\anaconda\\lib\\site-packages (from matplotlib>=2.2.3->phik) (4.51.0)\n",
      "Requirement already satisfied: kiwisolver>=1.3.1 in c:\\anaconda\\lib\\site-packages (from matplotlib>=2.2.3->phik) (1.4.4)\n",
      "Requirement already satisfied: packaging>=20.0 in c:\\anaconda\\lib\\site-packages (from matplotlib>=2.2.3->phik) (23.2)\n",
      "Requirement already satisfied: pillow>=8 in c:\\anaconda\\lib\\site-packages (from matplotlib>=2.2.3->phik) (10.3.0)\n",
      "Requirement already satisfied: pyparsing>=2.3.1 in c:\\anaconda\\lib\\site-packages (from matplotlib>=2.2.3->phik) (3.0.9)\n",
      "Requirement already satisfied: python-dateutil>=2.7 in c:\\anaconda\\lib\\site-packages (from matplotlib>=2.2.3->phik) (2.9.0.post0)\n",
      "Requirement already satisfied: pytz>=2020.1 in c:\\anaconda\\lib\\site-packages (from pandas>=0.25.1->phik) (2024.1)\n",
      "Requirement already satisfied: tzdata>=2022.7 in c:\\anaconda\\lib\\site-packages (from pandas>=0.25.1->phik) (2023.3)\n",
      "Requirement already satisfied: six>=1.5 in c:\\anaconda\\lib\\site-packages (from python-dateutil>=2.7->matplotlib>=2.2.3->phik) (1.16.0)\n"
     ]
    }
   ],
   "source": [
    "! pip install phik\n",
    "import phik\n",
    "from phik.report import plot_correlation_matrix\n",
    "from phik import report"
   ]
  },
  {
   "cell_type": "code",
   "execution_count": 8,
   "id": "e229969a-ffd5-4c73-99c7-a5ab7c842f1d",
   "metadata": {},
   "outputs": [],
   "source": [
    "df = pd.read_csv('cwurData.csv')"
   ]
  },
  {
   "cell_type": "code",
   "execution_count": 9,
   "id": "ef600106-ee65-4c51-a401-ca58f9c4a39f",
   "metadata": {},
   "outputs": [
    {
     "data": {
      "text/html": [
       "<div>\n",
       "<style scoped>\n",
       "    .dataframe tbody tr th:only-of-type {\n",
       "        vertical-align: middle;\n",
       "    }\n",
       "\n",
       "    .dataframe tbody tr th {\n",
       "        vertical-align: top;\n",
       "    }\n",
       "\n",
       "    .dataframe thead th {\n",
       "        text-align: right;\n",
       "    }\n",
       "</style>\n",
       "<table border=\"1\" class=\"dataframe\">\n",
       "  <thead>\n",
       "    <tr style=\"text-align: right;\">\n",
       "      <th></th>\n",
       "      <th>world_rank</th>\n",
       "      <th>institution</th>\n",
       "      <th>country</th>\n",
       "      <th>national_rank</th>\n",
       "      <th>quality_of_education</th>\n",
       "      <th>alumni_employment</th>\n",
       "      <th>quality_of_faculty</th>\n",
       "      <th>publications</th>\n",
       "      <th>influence</th>\n",
       "      <th>citations</th>\n",
       "      <th>broad_impact</th>\n",
       "      <th>patents</th>\n",
       "      <th>score</th>\n",
       "      <th>year</th>\n",
       "    </tr>\n",
       "  </thead>\n",
       "  <tbody>\n",
       "    <tr>\n",
       "      <th>0</th>\n",
       "      <td>1</td>\n",
       "      <td>Harvard University</td>\n",
       "      <td>USA</td>\n",
       "      <td>1</td>\n",
       "      <td>7</td>\n",
       "      <td>9</td>\n",
       "      <td>1</td>\n",
       "      <td>1</td>\n",
       "      <td>1</td>\n",
       "      <td>1</td>\n",
       "      <td>NaN</td>\n",
       "      <td>5</td>\n",
       "      <td>100.00</td>\n",
       "      <td>2012</td>\n",
       "    </tr>\n",
       "    <tr>\n",
       "      <th>1</th>\n",
       "      <td>2</td>\n",
       "      <td>Massachusetts Institute of Technology</td>\n",
       "      <td>USA</td>\n",
       "      <td>2</td>\n",
       "      <td>9</td>\n",
       "      <td>17</td>\n",
       "      <td>3</td>\n",
       "      <td>12</td>\n",
       "      <td>4</td>\n",
       "      <td>4</td>\n",
       "      <td>NaN</td>\n",
       "      <td>1</td>\n",
       "      <td>91.67</td>\n",
       "      <td>2012</td>\n",
       "    </tr>\n",
       "    <tr>\n",
       "      <th>2</th>\n",
       "      <td>3</td>\n",
       "      <td>Stanford University</td>\n",
       "      <td>USA</td>\n",
       "      <td>3</td>\n",
       "      <td>17</td>\n",
       "      <td>11</td>\n",
       "      <td>5</td>\n",
       "      <td>4</td>\n",
       "      <td>2</td>\n",
       "      <td>2</td>\n",
       "      <td>NaN</td>\n",
       "      <td>15</td>\n",
       "      <td>89.50</td>\n",
       "      <td>2012</td>\n",
       "    </tr>\n",
       "    <tr>\n",
       "      <th>3</th>\n",
       "      <td>4</td>\n",
       "      <td>University of Cambridge</td>\n",
       "      <td>United Kingdom</td>\n",
       "      <td>1</td>\n",
       "      <td>10</td>\n",
       "      <td>24</td>\n",
       "      <td>4</td>\n",
       "      <td>16</td>\n",
       "      <td>16</td>\n",
       "      <td>11</td>\n",
       "      <td>NaN</td>\n",
       "      <td>50</td>\n",
       "      <td>86.17</td>\n",
       "      <td>2012</td>\n",
       "    </tr>\n",
       "    <tr>\n",
       "      <th>4</th>\n",
       "      <td>5</td>\n",
       "      <td>California Institute of Technology</td>\n",
       "      <td>USA</td>\n",
       "      <td>4</td>\n",
       "      <td>2</td>\n",
       "      <td>29</td>\n",
       "      <td>7</td>\n",
       "      <td>37</td>\n",
       "      <td>22</td>\n",
       "      <td>22</td>\n",
       "      <td>NaN</td>\n",
       "      <td>18</td>\n",
       "      <td>85.21</td>\n",
       "      <td>2012</td>\n",
       "    </tr>\n",
       "    <tr>\n",
       "      <th>5</th>\n",
       "      <td>6</td>\n",
       "      <td>Princeton University</td>\n",
       "      <td>USA</td>\n",
       "      <td>5</td>\n",
       "      <td>8</td>\n",
       "      <td>14</td>\n",
       "      <td>2</td>\n",
       "      <td>53</td>\n",
       "      <td>33</td>\n",
       "      <td>26</td>\n",
       "      <td>NaN</td>\n",
       "      <td>101</td>\n",
       "      <td>82.50</td>\n",
       "      <td>2012</td>\n",
       "    </tr>\n",
       "    <tr>\n",
       "      <th>6</th>\n",
       "      <td>7</td>\n",
       "      <td>University of Oxford</td>\n",
       "      <td>United Kingdom</td>\n",
       "      <td>2</td>\n",
       "      <td>13</td>\n",
       "      <td>28</td>\n",
       "      <td>9</td>\n",
       "      <td>15</td>\n",
       "      <td>13</td>\n",
       "      <td>19</td>\n",
       "      <td>NaN</td>\n",
       "      <td>26</td>\n",
       "      <td>82.34</td>\n",
       "      <td>2012</td>\n",
       "    </tr>\n",
       "    <tr>\n",
       "      <th>7</th>\n",
       "      <td>8</td>\n",
       "      <td>Yale University</td>\n",
       "      <td>USA</td>\n",
       "      <td>6</td>\n",
       "      <td>14</td>\n",
       "      <td>31</td>\n",
       "      <td>12</td>\n",
       "      <td>14</td>\n",
       "      <td>6</td>\n",
       "      <td>15</td>\n",
       "      <td>NaN</td>\n",
       "      <td>66</td>\n",
       "      <td>79.14</td>\n",
       "      <td>2012</td>\n",
       "    </tr>\n",
       "    <tr>\n",
       "      <th>8</th>\n",
       "      <td>9</td>\n",
       "      <td>Columbia University</td>\n",
       "      <td>USA</td>\n",
       "      <td>7</td>\n",
       "      <td>23</td>\n",
       "      <td>21</td>\n",
       "      <td>10</td>\n",
       "      <td>13</td>\n",
       "      <td>12</td>\n",
       "      <td>14</td>\n",
       "      <td>NaN</td>\n",
       "      <td>5</td>\n",
       "      <td>78.86</td>\n",
       "      <td>2012</td>\n",
       "    </tr>\n",
       "    <tr>\n",
       "      <th>9</th>\n",
       "      <td>10</td>\n",
       "      <td>University of California, Berkeley</td>\n",
       "      <td>USA</td>\n",
       "      <td>8</td>\n",
       "      <td>16</td>\n",
       "      <td>52</td>\n",
       "      <td>6</td>\n",
       "      <td>6</td>\n",
       "      <td>5</td>\n",
       "      <td>3</td>\n",
       "      <td>NaN</td>\n",
       "      <td>16</td>\n",
       "      <td>78.55</td>\n",
       "      <td>2012</td>\n",
       "    </tr>\n",
       "  </tbody>\n",
       "</table>\n",
       "</div>"
      ],
      "text/plain": [
       "   world_rank                            institution         country  \\\n",
       "0           1                     Harvard University             USA   \n",
       "1           2  Massachusetts Institute of Technology             USA   \n",
       "2           3                    Stanford University             USA   \n",
       "3           4                University of Cambridge  United Kingdom   \n",
       "4           5     California Institute of Technology             USA   \n",
       "5           6                   Princeton University             USA   \n",
       "6           7                   University of Oxford  United Kingdom   \n",
       "7           8                        Yale University             USA   \n",
       "8           9                    Columbia University             USA   \n",
       "9          10     University of California, Berkeley             USA   \n",
       "\n",
       "   national_rank  quality_of_education  alumni_employment  quality_of_faculty  \\\n",
       "0              1                     7                  9                   1   \n",
       "1              2                     9                 17                   3   \n",
       "2              3                    17                 11                   5   \n",
       "3              1                    10                 24                   4   \n",
       "4              4                     2                 29                   7   \n",
       "5              5                     8                 14                   2   \n",
       "6              2                    13                 28                   9   \n",
       "7              6                    14                 31                  12   \n",
       "8              7                    23                 21                  10   \n",
       "9              8                    16                 52                   6   \n",
       "\n",
       "   publications  influence  citations  broad_impact  patents   score  year  \n",
       "0             1          1          1           NaN        5  100.00  2012  \n",
       "1            12          4          4           NaN        1   91.67  2012  \n",
       "2             4          2          2           NaN       15   89.50  2012  \n",
       "3            16         16         11           NaN       50   86.17  2012  \n",
       "4            37         22         22           NaN       18   85.21  2012  \n",
       "5            53         33         26           NaN      101   82.50  2012  \n",
       "6            15         13         19           NaN       26   82.34  2012  \n",
       "7            14          6         15           NaN       66   79.14  2012  \n",
       "8            13         12         14           NaN        5   78.86  2012  \n",
       "9             6          5          3           NaN       16   78.55  2012  "
      ]
     },
     "execution_count": 9,
     "metadata": {},
     "output_type": "execute_result"
    }
   ],
   "source": [
    "df.head(10)"
   ]
  },
  {
   "cell_type": "code",
   "execution_count": 10,
   "id": "966edbde-2a1c-4782-b867-d516dc2ed3fb",
   "metadata": {},
   "outputs": [
    {
     "data": {
      "text/plain": [
       "2200"
      ]
     },
     "execution_count": 10,
     "metadata": {},
     "output_type": "execute_result"
    }
   ],
   "source": [
    "len(df)"
   ]
  },
  {
   "cell_type": "code",
   "execution_count": 11,
   "id": "178e1b4b-a213-41eb-87a7-dc38a4d7df38",
   "metadata": {},
   "outputs": [
    {
     "data": {
      "text/plain": [
       "Index(['world_rank', 'institution', 'country', 'national_rank',\n",
       "       'quality_of_education', 'alumni_employment', 'quality_of_faculty',\n",
       "       'publications', 'influence', 'citations', 'broad_impact', 'patents',\n",
       "       'score', 'year'],\n",
       "      dtype='object')"
      ]
     },
     "execution_count": 11,
     "metadata": {},
     "output_type": "execute_result"
    }
   ],
   "source": [
    "df.columns"
   ]
  },
  {
   "cell_type": "code",
   "execution_count": 12,
   "id": "97498b1a-9b9f-4f66-959f-cd3c39e2dd2e",
   "metadata": {},
   "outputs": [
    {
     "data": {
      "text/plain": [
       "broad_impact            0.090909\n",
       "world_rank              0.000000\n",
       "institution             0.000000\n",
       "country                 0.000000\n",
       "national_rank           0.000000\n",
       "quality_of_education    0.000000\n",
       "alumni_employment       0.000000\n",
       "quality_of_faculty      0.000000\n",
       "publications            0.000000\n",
       "influence               0.000000\n",
       "citations               0.000000\n",
       "patents                 0.000000\n",
       "score                   0.000000\n",
       "year                    0.000000\n",
       "dtype: float64"
      ]
     },
     "execution_count": 12,
     "metadata": {},
     "output_type": "execute_result"
    }
   ],
   "source": [
    "df.isna().mean().sort_values(ascending=False)"
   ]
  },
  {
   "cell_type": "code",
   "execution_count": 13,
   "id": "e93e87e4-b0a6-4935-9783-bf4e6baa8a3f",
   "metadata": {},
   "outputs": [
    {
     "name": "stdout",
     "output_type": "stream",
     "text": [
      "<class 'pandas.core.frame.DataFrame'>\n",
      "RangeIndex: 2200 entries, 0 to 2199\n",
      "Data columns (total 14 columns):\n",
      " #   Column                Non-Null Count  Dtype  \n",
      "---  ------                --------------  -----  \n",
      " 0   world_rank            2200 non-null   int64  \n",
      " 1   institution           2200 non-null   object \n",
      " 2   country               2200 non-null   object \n",
      " 3   national_rank         2200 non-null   int64  \n",
      " 4   quality_of_education  2200 non-null   int64  \n",
      " 5   alumni_employment     2200 non-null   int64  \n",
      " 6   quality_of_faculty    2200 non-null   int64  \n",
      " 7   publications          2200 non-null   int64  \n",
      " 8   influence             2200 non-null   int64  \n",
      " 9   citations             2200 non-null   int64  \n",
      " 10  broad_impact          2000 non-null   float64\n",
      " 11  patents               2200 non-null   int64  \n",
      " 12  score                 2200 non-null   float64\n",
      " 13  year                  2200 non-null   int64  \n",
      "dtypes: float64(2), int64(10), object(2)\n",
      "memory usage: 240.8+ KB\n"
     ]
    }
   ],
   "source": [
    "df.info()"
   ]
  },
  {
   "cell_type": "code",
   "execution_count": 14,
   "id": "0a05328b-5ab8-40b2-bbf5-a6dfa125ff0b",
   "metadata": {},
   "outputs": [
    {
     "data": {
      "text/html": [
       "<div>\n",
       "<style scoped>\n",
       "    .dataframe tbody tr th:only-of-type {\n",
       "        vertical-align: middle;\n",
       "    }\n",
       "\n",
       "    .dataframe tbody tr th {\n",
       "        vertical-align: top;\n",
       "    }\n",
       "\n",
       "    .dataframe thead th {\n",
       "        text-align: right;\n",
       "    }\n",
       "</style>\n",
       "<table border=\"1\" class=\"dataframe\">\n",
       "  <thead>\n",
       "    <tr style=\"text-align: right;\">\n",
       "      <th></th>\n",
       "      <th>world_rank</th>\n",
       "      <th>national_rank</th>\n",
       "      <th>quality_of_education</th>\n",
       "      <th>alumni_employment</th>\n",
       "      <th>quality_of_faculty</th>\n",
       "      <th>publications</th>\n",
       "      <th>influence</th>\n",
       "      <th>citations</th>\n",
       "      <th>broad_impact</th>\n",
       "      <th>patents</th>\n",
       "      <th>score</th>\n",
       "      <th>year</th>\n",
       "    </tr>\n",
       "  </thead>\n",
       "  <tbody>\n",
       "    <tr>\n",
       "      <th>count</th>\n",
       "      <td>2200.000000</td>\n",
       "      <td>2200.000000</td>\n",
       "      <td>2200.000000</td>\n",
       "      <td>2200.000000</td>\n",
       "      <td>2200.000000</td>\n",
       "      <td>2200.000000</td>\n",
       "      <td>2200.000000</td>\n",
       "      <td>2200.000000</td>\n",
       "      <td>2000.000000</td>\n",
       "      <td>2200.000000</td>\n",
       "      <td>2200.000000</td>\n",
       "      <td>2200.000000</td>\n",
       "    </tr>\n",
       "    <tr>\n",
       "      <th>mean</th>\n",
       "      <td>459.590909</td>\n",
       "      <td>40.278182</td>\n",
       "      <td>275.100455</td>\n",
       "      <td>357.116818</td>\n",
       "      <td>178.888182</td>\n",
       "      <td>459.908636</td>\n",
       "      <td>459.797727</td>\n",
       "      <td>413.417273</td>\n",
       "      <td>496.699500</td>\n",
       "      <td>433.346364</td>\n",
       "      <td>47.798395</td>\n",
       "      <td>2014.318182</td>\n",
       "    </tr>\n",
       "    <tr>\n",
       "      <th>std</th>\n",
       "      <td>304.320363</td>\n",
       "      <td>51.740870</td>\n",
       "      <td>121.935100</td>\n",
       "      <td>186.779252</td>\n",
       "      <td>64.050885</td>\n",
       "      <td>303.760352</td>\n",
       "      <td>303.331822</td>\n",
       "      <td>264.366549</td>\n",
       "      <td>286.919755</td>\n",
       "      <td>273.996525</td>\n",
       "      <td>7.760806</td>\n",
       "      <td>0.762130</td>\n",
       "    </tr>\n",
       "    <tr>\n",
       "      <th>min</th>\n",
       "      <td>1.000000</td>\n",
       "      <td>1.000000</td>\n",
       "      <td>1.000000</td>\n",
       "      <td>1.000000</td>\n",
       "      <td>1.000000</td>\n",
       "      <td>1.000000</td>\n",
       "      <td>1.000000</td>\n",
       "      <td>1.000000</td>\n",
       "      <td>1.000000</td>\n",
       "      <td>1.000000</td>\n",
       "      <td>43.360000</td>\n",
       "      <td>2012.000000</td>\n",
       "    </tr>\n",
       "    <tr>\n",
       "      <th>25%</th>\n",
       "      <td>175.750000</td>\n",
       "      <td>6.000000</td>\n",
       "      <td>175.750000</td>\n",
       "      <td>175.750000</td>\n",
       "      <td>175.750000</td>\n",
       "      <td>175.750000</td>\n",
       "      <td>175.750000</td>\n",
       "      <td>161.000000</td>\n",
       "      <td>250.500000</td>\n",
       "      <td>170.750000</td>\n",
       "      <td>44.460000</td>\n",
       "      <td>2014.000000</td>\n",
       "    </tr>\n",
       "    <tr>\n",
       "      <th>50%</th>\n",
       "      <td>450.500000</td>\n",
       "      <td>21.000000</td>\n",
       "      <td>355.000000</td>\n",
       "      <td>450.500000</td>\n",
       "      <td>210.000000</td>\n",
       "      <td>450.500000</td>\n",
       "      <td>450.500000</td>\n",
       "      <td>406.000000</td>\n",
       "      <td>496.000000</td>\n",
       "      <td>426.000000</td>\n",
       "      <td>45.100000</td>\n",
       "      <td>2014.000000</td>\n",
       "    </tr>\n",
       "    <tr>\n",
       "      <th>75%</th>\n",
       "      <td>725.250000</td>\n",
       "      <td>49.000000</td>\n",
       "      <td>367.000000</td>\n",
       "      <td>478.000000</td>\n",
       "      <td>218.000000</td>\n",
       "      <td>725.000000</td>\n",
       "      <td>725.250000</td>\n",
       "      <td>645.000000</td>\n",
       "      <td>741.000000</td>\n",
       "      <td>714.250000</td>\n",
       "      <td>47.545000</td>\n",
       "      <td>2015.000000</td>\n",
       "    </tr>\n",
       "    <tr>\n",
       "      <th>max</th>\n",
       "      <td>1000.000000</td>\n",
       "      <td>229.000000</td>\n",
       "      <td>367.000000</td>\n",
       "      <td>567.000000</td>\n",
       "      <td>218.000000</td>\n",
       "      <td>1000.000000</td>\n",
       "      <td>991.000000</td>\n",
       "      <td>812.000000</td>\n",
       "      <td>1000.000000</td>\n",
       "      <td>871.000000</td>\n",
       "      <td>100.000000</td>\n",
       "      <td>2015.000000</td>\n",
       "    </tr>\n",
       "  </tbody>\n",
       "</table>\n",
       "</div>"
      ],
      "text/plain": [
       "        world_rank  national_rank  quality_of_education  alumni_employment  \\\n",
       "count  2200.000000    2200.000000           2200.000000        2200.000000   \n",
       "mean    459.590909      40.278182            275.100455         357.116818   \n",
       "std     304.320363      51.740870            121.935100         186.779252   \n",
       "min       1.000000       1.000000              1.000000           1.000000   \n",
       "25%     175.750000       6.000000            175.750000         175.750000   \n",
       "50%     450.500000      21.000000            355.000000         450.500000   \n",
       "75%     725.250000      49.000000            367.000000         478.000000   \n",
       "max    1000.000000     229.000000            367.000000         567.000000   \n",
       "\n",
       "       quality_of_faculty  publications    influence    citations  \\\n",
       "count         2200.000000   2200.000000  2200.000000  2200.000000   \n",
       "mean           178.888182    459.908636   459.797727   413.417273   \n",
       "std             64.050885    303.760352   303.331822   264.366549   \n",
       "min              1.000000      1.000000     1.000000     1.000000   \n",
       "25%            175.750000    175.750000   175.750000   161.000000   \n",
       "50%            210.000000    450.500000   450.500000   406.000000   \n",
       "75%            218.000000    725.000000   725.250000   645.000000   \n",
       "max            218.000000   1000.000000   991.000000   812.000000   \n",
       "\n",
       "       broad_impact      patents        score         year  \n",
       "count   2000.000000  2200.000000  2200.000000  2200.000000  \n",
       "mean     496.699500   433.346364    47.798395  2014.318182  \n",
       "std      286.919755   273.996525     7.760806     0.762130  \n",
       "min        1.000000     1.000000    43.360000  2012.000000  \n",
       "25%      250.500000   170.750000    44.460000  2014.000000  \n",
       "50%      496.000000   426.000000    45.100000  2014.000000  \n",
       "75%      741.000000   714.250000    47.545000  2015.000000  \n",
       "max     1000.000000   871.000000   100.000000  2015.000000  "
      ]
     },
     "execution_count": 14,
     "metadata": {},
     "output_type": "execute_result"
    }
   ],
   "source": [
    "df.describe()"
   ]
  },
  {
   "cell_type": "code",
   "execution_count": 15,
   "id": "910db5f0-c4db-458c-b591-2a7577205b56",
   "metadata": {},
   "outputs": [
    {
     "data": {
      "text/plain": [
       "world_rank              1000\n",
       "institution             1024\n",
       "country                   59\n",
       "national_rank            229\n",
       "quality_of_education     367\n",
       "alumni_employment        565\n",
       "quality_of_faculty       199\n",
       "publications             987\n",
       "influence                944\n",
       "citations                135\n",
       "broad_impact             343\n",
       "patents                  738\n",
       "score                    764\n",
       "year                       4\n",
       "dtype: int64"
      ]
     },
     "execution_count": 15,
     "metadata": {},
     "output_type": "execute_result"
    }
   ],
   "source": [
    "df.nunique()"
   ]
  },
  {
   "cell_type": "code",
   "execution_count": 16,
   "id": "a45caf88-cfd2-4b90-922c-58b7d66efcd7",
   "metadata": {},
   "outputs": [
    {
     "data": {
      "text/plain": [
       "country\n",
       "USA                     573\n",
       "China                   167\n",
       "Japan                   159\n",
       "United Kingdom          144\n",
       "Germany                 115\n",
       "France                  109\n",
       "Italy                    96\n",
       "Spain                    81\n",
       "Canada                   72\n",
       "South Korea              72\n",
       "Australia                58\n",
       "Taiwan                   46\n",
       "Brazil                   36\n",
       "India                    31\n",
       "Netherlands              29\n",
       "Switzerland              26\n",
       "Sweden                   24\n",
       "Austria                  24\n",
       "Israel                   22\n",
       "Finland                  20\n",
       "Turkey                   20\n",
       "Belgium                  20\n",
       "Poland                   18\n",
       "Iran                     16\n",
       "Ireland                  16\n",
       "Portugal                 14\n",
       "Greece                   14\n",
       "Hong Kong                12\n",
       "Norway                   12\n",
       "New Zealand              12\n",
       "Hungary                  12\n",
       "Denmark                  12\n",
       "South Africa             10\n",
       "Czech Republic           10\n",
       "Russia                    9\n",
       "Saudi Arabia              8\n",
       "Egypt                     8\n",
       "Chile                     8\n",
       "Argentina                 7\n",
       "Thailand                  6\n",
       "Malaysia                  6\n",
       "Singapore                 5\n",
       "Colombia                  4\n",
       "Mexico                    4\n",
       "Slovenia                  4\n",
       "Romania                   3\n",
       "Lebanon                   2\n",
       "Croatia                   2\n",
       "Estonia                   2\n",
       "Slovak Republic           2\n",
       "Iceland                   2\n",
       "Serbia                    2\n",
       "Bulgaria                  2\n",
       "Lithuania                 2\n",
       "Uganda                    2\n",
       "United Arab Emirates      2\n",
       "Uruguay                   2\n",
       "Cyprus                    2\n",
       "Puerto Rico               2\n",
       "Name: count, dtype: int64"
      ]
     },
     "execution_count": 16,
     "metadata": {},
     "output_type": "execute_result"
    }
   ],
   "source": [
    "df['country'].value_counts(dropna=False)"
   ]
  },
  {
   "cell_type": "code",
   "execution_count": 17,
   "id": "5b0e29c4-dde1-4c5f-b473-7fd647355312",
   "metadata": {},
   "outputs": [
    {
     "data": {
      "text/plain": [
       "Text(0.5, 0, 'Count')"
      ]
     },
     "execution_count": 17,
     "metadata": {},
     "output_type": "execute_result"
    },
    {
     "data": {
      "image/png": "[encoded data removed]",
      "text/plain": [
       "<Figure size 1000x1000 with 1 Axes>"
      ]
     },
     "metadata": {},
     "output_type": "display_data"
    }
   ],
   "source": [
    "# Figure size\n",
    "plt.figure(figsize=(10,10))\n",
    "\n",
    "df['country'].value_counts().plot.barh()\n",
    "\n",
    "# Aesthetics\n",
    "plt.title('Country distribution')\n",
    "plt.xlabel('Count')"
   ]
  },
  {
   "cell_type": "code",
   "execution_count": 18,
   "id": "d83fdfb7-5dab-4a6f-b561-8dc483477b7c",
   "metadata": {},
   "outputs": [
    {
     "data": {
      "text/plain": [
       "year\n",
       "2014    1000\n",
       "2015    1000\n",
       "2012     100\n",
       "2013     100\n",
       "Name: count, dtype: int64"
      ]
     },
     "execution_count": 18,
     "metadata": {},
     "output_type": "execute_result"
    }
   ],
   "source": [
    "df['year'].value_counts(dropna=False)"
   ]
  },
  {
   "cell_type": "code",
   "execution_count": 19,
   "id": "670438b0-99e0-42b7-9d71-5a008237c53e",
   "metadata": {},
   "outputs": [],
   "source": [
    "df['world_rank_2'] = pd.qcut(df['world_rank'],10,duplicates='drop')"
   ]
  },
  {
   "cell_type": "code",
   "execution_count": 20,
   "id": "92f82514-8807-4dbe-8827-ecab1c860635",
   "metadata": {},
   "outputs": [
    {
     "data": {
      "text/plain": [
       "world_rank_2\n",
       "(0.999, 55.9]      220\n",
       "(55.9, 120.8]      220\n",
       "(120.8, 230.7]     220\n",
       "(230.7, 340.6]     220\n",
       "(340.6, 450.5]     220\n",
       "(450.5, 560.4]     220\n",
       "(560.4, 670.3]     220\n",
       "(670.3, 780.2]     220\n",
       "(780.2, 890.1]     220\n",
       "(890.1, 1000.0]    220\n",
       "Name: count, dtype: int64"
      ]
     },
     "execution_count": 20,
     "metadata": {},
     "output_type": "execute_result"
    }
   ],
   "source": [
    "df['world_rank_2'].value_counts(dropna=False)"
   ]
  },
  {
   "cell_type": "code",
   "execution_count": 21,
   "id": "76e154ae-2bd2-4d5a-ae97-669f2dce3559",
   "metadata": {},
   "outputs": [
    {
     "data": {
      "text/html": [
       "<div>\n",
       "<style scoped>\n",
       "    .dataframe tbody tr th:only-of-type {\n",
       "        vertical-align: middle;\n",
       "    }\n",
       "\n",
       "    .dataframe tbody tr th {\n",
       "        vertical-align: top;\n",
       "    }\n",
       "\n",
       "    .dataframe thead th {\n",
       "        text-align: right;\n",
       "    }\n",
       "</style>\n",
       "<table border=\"1\" class=\"dataframe\">\n",
       "  <thead>\n",
       "    <tr style=\"text-align: right;\">\n",
       "      <th></th>\n",
       "      <th>world_rank</th>\n",
       "      <th>institution</th>\n",
       "      <th>country</th>\n",
       "      <th>national_rank</th>\n",
       "      <th>quality_of_education</th>\n",
       "      <th>alumni_employment</th>\n",
       "      <th>quality_of_faculty</th>\n",
       "      <th>publications</th>\n",
       "      <th>influence</th>\n",
       "      <th>citations</th>\n",
       "      <th>broad_impact</th>\n",
       "      <th>patents</th>\n",
       "      <th>score</th>\n",
       "      <th>year</th>\n",
       "      <th>world_rank_2</th>\n",
       "    </tr>\n",
       "  </thead>\n",
       "  <tbody>\n",
       "    <tr>\n",
       "      <th>189</th>\n",
       "      <td>90</td>\n",
       "      <td>Lomonosov Moscow State University</td>\n",
       "      <td>Russia</td>\n",
       "      <td>1</td>\n",
       "      <td>14</td>\n",
       "      <td>101</td>\n",
       "      <td>51</td>\n",
       "      <td>101</td>\n",
       "      <td>101</td>\n",
       "      <td>101</td>\n",
       "      <td>NaN</td>\n",
       "      <td>101</td>\n",
       "      <td>44.93</td>\n",
       "      <td>2013</td>\n",
       "      <td>(55.9, 120.8]</td>\n",
       "    </tr>\n",
       "    <tr>\n",
       "      <th>247</th>\n",
       "      <td>48</td>\n",
       "      <td>Lomonosov Moscow State University</td>\n",
       "      <td>Russia</td>\n",
       "      <td>1</td>\n",
       "      <td>14</td>\n",
       "      <td>210</td>\n",
       "      <td>50</td>\n",
       "      <td>264</td>\n",
       "      <td>247</td>\n",
       "      <td>310</td>\n",
       "      <td>361.0</td>\n",
       "      <td>737</td>\n",
       "      <td>56.42</td>\n",
       "      <td>2014</td>\n",
       "      <td>(0.999, 55.9]</td>\n",
       "    </tr>\n",
       "    <tr>\n",
       "      <th>484</th>\n",
       "      <td>285</td>\n",
       "      <td>Saint Petersburg State University</td>\n",
       "      <td>Russia</td>\n",
       "      <td>2</td>\n",
       "      <td>37</td>\n",
       "      <td>129</td>\n",
       "      <td>210</td>\n",
       "      <td>619</td>\n",
       "      <td>620</td>\n",
       "      <td>609</td>\n",
       "      <td>756.0</td>\n",
       "      <td>737</td>\n",
       "      <td>46.49</td>\n",
       "      <td>2014</td>\n",
       "      <td>(230.7, 340.6]</td>\n",
       "    </tr>\n",
       "    <tr>\n",
       "      <th>1115</th>\n",
       "      <td>916</td>\n",
       "      <td>Novosibirsk State University</td>\n",
       "      <td>Russia</td>\n",
       "      <td>3</td>\n",
       "      <td>147</td>\n",
       "      <td>478</td>\n",
       "      <td>210</td>\n",
       "      <td>875</td>\n",
       "      <td>910</td>\n",
       "      <td>609</td>\n",
       "      <td>994.0</td>\n",
       "      <td>737</td>\n",
       "      <td>44.38</td>\n",
       "      <td>2014</td>\n",
       "      <td>(890.1, 1000.0]</td>\n",
       "    </tr>\n",
       "    <tr>\n",
       "      <th>1258</th>\n",
       "      <td>59</td>\n",
       "      <td>Lomonosov Moscow State University</td>\n",
       "      <td>Russia</td>\n",
       "      <td>1</td>\n",
       "      <td>14</td>\n",
       "      <td>175</td>\n",
       "      <td>48</td>\n",
       "      <td>268</td>\n",
       "      <td>254</td>\n",
       "      <td>287</td>\n",
       "      <td>344.0</td>\n",
       "      <td>861</td>\n",
       "      <td>54.19</td>\n",
       "      <td>2015</td>\n",
       "      <td>(55.9, 120.8]</td>\n",
       "    </tr>\n",
       "    <tr>\n",
       "      <th>1449</th>\n",
       "      <td>250</td>\n",
       "      <td>Moscow Institute of Physics and Technology</td>\n",
       "      <td>Russia</td>\n",
       "      <td>2</td>\n",
       "      <td>23</td>\n",
       "      <td>339</td>\n",
       "      <td>218</td>\n",
       "      <td>949</td>\n",
       "      <td>605</td>\n",
       "      <td>812</td>\n",
       "      <td>1000.0</td>\n",
       "      <td>839</td>\n",
       "      <td>46.55</td>\n",
       "      <td>2015</td>\n",
       "      <td>(230.7, 340.6]</td>\n",
       "    </tr>\n",
       "    <tr>\n",
       "      <th>1605</th>\n",
       "      <td>406</td>\n",
       "      <td>Saint Petersburg State University</td>\n",
       "      <td>Russia</td>\n",
       "      <td>3</td>\n",
       "      <td>47</td>\n",
       "      <td>250</td>\n",
       "      <td>218</td>\n",
       "      <td>621</td>\n",
       "      <td>574</td>\n",
       "      <td>645</td>\n",
       "      <td>754.0</td>\n",
       "      <td>816</td>\n",
       "      <td>45.14</td>\n",
       "      <td>2015</td>\n",
       "      <td>(340.6, 450.5]</td>\n",
       "    </tr>\n",
       "    <tr>\n",
       "      <th>1954</th>\n",
       "      <td>755</td>\n",
       "      <td>National Research Nuclear University MEPhI</td>\n",
       "      <td>Russia</td>\n",
       "      <td>4</td>\n",
       "      <td>306</td>\n",
       "      <td>567</td>\n",
       "      <td>218</td>\n",
       "      <td>957</td>\n",
       "      <td>699</td>\n",
       "      <td>428</td>\n",
       "      <td>671.0</td>\n",
       "      <td>871</td>\n",
       "      <td>44.29</td>\n",
       "      <td>2015</td>\n",
       "      <td>(670.3, 780.2]</td>\n",
       "    </tr>\n",
       "    <tr>\n",
       "      <th>2184</th>\n",
       "      <td>985</td>\n",
       "      <td>Novosibirsk State University</td>\n",
       "      <td>Russia</td>\n",
       "      <td>5</td>\n",
       "      <td>167</td>\n",
       "      <td>567</td>\n",
       "      <td>218</td>\n",
       "      <td>819</td>\n",
       "      <td>858</td>\n",
       "      <td>645</td>\n",
       "      <td>991.0</td>\n",
       "      <td>871</td>\n",
       "      <td>44.04</td>\n",
       "      <td>2015</td>\n",
       "      <td>(890.1, 1000.0]</td>\n",
       "    </tr>\n",
       "  </tbody>\n",
       "</table>\n",
       "</div>"
      ],
      "text/plain": [
       "      world_rank                                 institution country  \\\n",
       "189           90           Lomonosov Moscow State University  Russia   \n",
       "247           48           Lomonosov Moscow State University  Russia   \n",
       "484          285           Saint Petersburg State University  Russia   \n",
       "1115         916                Novosibirsk State University  Russia   \n",
       "1258          59           Lomonosov Moscow State University  Russia   \n",
       "1449         250  Moscow Institute of Physics and Technology  Russia   \n",
       "1605         406           Saint Petersburg State University  Russia   \n",
       "1954         755  National Research Nuclear University MEPhI  Russia   \n",
       "2184         985                Novosibirsk State University  Russia   \n",
       "\n",
       "      national_rank  quality_of_education  alumni_employment  \\\n",
       "189               1                    14                101   \n",
       "247               1                    14                210   \n",
       "484               2                    37                129   \n",
       "1115              3                   147                478   \n",
       "1258              1                    14                175   \n",
       "1449              2                    23                339   \n",
       "1605              3                    47                250   \n",
       "1954              4                   306                567   \n",
       "2184              5                   167                567   \n",
       "\n",
       "      quality_of_faculty  publications  influence  citations  broad_impact  \\\n",
       "189                   51           101        101        101           NaN   \n",
       "247                   50           264        247        310         361.0   \n",
       "484                  210           619        620        609         756.0   \n",
       "1115                 210           875        910        609         994.0   \n",
       "1258                  48           268        254        287         344.0   \n",
       "1449                 218           949        605        812        1000.0   \n",
       "1605                 218           621        574        645         754.0   \n",
       "1954                 218           957        699        428         671.0   \n",
       "2184                 218           819        858        645         991.0   \n",
       "\n",
       "      patents  score  year     world_rank_2  \n",
       "189       101  44.93  2013    (55.9, 120.8]  \n",
       "247       737  56.42  2014    (0.999, 55.9]  \n",
       "484       737  46.49  2014   (230.7, 340.6]  \n",
       "1115      737  44.38  2014  (890.1, 1000.0]  \n",
       "1258      861  54.19  2015    (55.9, 120.8]  \n",
       "1449      839  46.55  2015   (230.7, 340.6]  \n",
       "1605      816  45.14  2015   (340.6, 450.5]  \n",
       "1954      871  44.29  2015   (670.3, 780.2]  \n",
       "2184      871  44.04  2015  (890.1, 1000.0]  "
      ]
     },
     "execution_count": 21,
     "metadata": {},
     "output_type": "execute_result"
    }
   ],
   "source": [
    "df[df['country'] == 'Russia']"
   ]
  },
  {
   "cell_type": "code",
   "execution_count": 22,
   "id": "2dc7fef7-9b8f-4766-865e-66c21a2e952b",
   "metadata": {},
   "outputs": [
    {
     "name": "stdout",
     "output_type": "stream",
     "text": [
      "interval columns not set, guessing: ['world_rank', 'national_rank', 'quality_of_education', 'alumni_employment', 'quality_of_faculty', 'publications', 'influence', 'citations', 'broad_impact', 'patents', 'score', 'year']\n"
     ]
    },
    {
     "name": "stderr",
     "output_type": "stream",
     "text": [
      "C:\\Anaconda\\Lib\\site-packages\\phik\\data_quality.py:59: UserWarning: The number of unique values of variable institution is large: 1024. Are you sure this is not an interval variable? Analysis for pairs of variables including institution can be slow.\n",
      "  warnings.warn(\n"
     ]
    }
   ],
   "source": [
    "phik_overview = df.phik_matrix()"
   ]
  },
  {
   "cell_type": "code",
   "execution_count": 23,
   "id": "6727b35c-cca7-4642-acd7-bdf24b212a36",
   "metadata": {},
   "outputs": [
    {
     "data": {
      "text/plain": [
       "<Axes: >"
      ]
     },
     "execution_count": 23,
     "metadata": {},
     "output_type": "execute_result"
    },
    {
     "data": {
      "image/png": "[encoded data removed]",
      "text/plain": [
       "<Figure size 640x480 with 2 Axes>"
      ]
     },
     "metadata": {},
     "output_type": "display_data"
    }
   ],
   "source": [
    "sns.heatmap(phik_overview)"
   ]
  },
  {
   "cell_type": "code",
   "execution_count": 24,
   "id": "211fe33c-dbc1-4ce0-b5d9-fb4485956ebe",
   "metadata": {},
   "outputs": [
    {
     "data": {
      "text/plain": [
       "institution             1.000000\n",
       "country                 1.000000\n",
       "national_rank           0.995096\n",
       "publications            0.994257\n",
       "influence               0.993200\n",
       "broad_impact            0.992649\n",
       "world_rank_2            0.988720\n",
       "world_rank              0.988024\n",
       "quality_of_faculty      0.972301\n",
       "quality_of_education    0.963358\n",
       "citations               0.952251\n",
       "patents                 0.909158\n",
       "alumni_employment       0.892249\n",
       "score                   0.506864\n",
       "year                    0.000000\n",
       "Name: institution, dtype: float64"
      ]
     },
     "execution_count": 24,
     "metadata": {},
     "output_type": "execute_result"
    }
   ],
   "source": [
    "phik_overview['institution'].sort_values(ascending=False)"
   ]
  },
  {
   "cell_type": "code",
   "execution_count": 25,
   "id": "745b37f9-18d0-444c-9119-fadff483e7d0",
   "metadata": {},
   "outputs": [
    {
     "data": {
      "text/plain": [
       "Index(['world_rank', 'institution', 'country', 'national_rank',\n",
       "       'quality_of_education', 'alumni_employment', 'quality_of_faculty',\n",
       "       'publications', 'influence', 'citations', 'broad_impact', 'patents',\n",
       "       'score', 'year', 'world_rank_2'],\n",
       "      dtype='object')"
      ]
     },
     "execution_count": 25,
     "metadata": {},
     "output_type": "execute_result"
    }
   ],
   "source": [
    "df.columns"
   ]
  },
  {
   "cell_type": "code",
   "execution_count": 26,
   "id": "b12a9905-ab6d-4644-8918-e635a008497f",
   "metadata": {},
   "outputs": [],
   "source": [
    "t = df.groupby('institution')['world_rank'].agg(['count','mean'])"
   ]
  },
  {
   "cell_type": "code",
   "execution_count": 27,
   "id": "f7393590-86f0-4c7c-8457-310746b15415",
   "metadata": {},
   "outputs": [
    {
     "data": {
      "text/plain": [
       "<Axes: ylabel='institution'>"
      ]
     },
     "execution_count": 27,
     "metadata": {},
     "output_type": "execute_result"
    },
    {
     "data": {
      "image/png": "[encoded data removed]",
      "text/plain": [
       "<Figure size 640x480 with 1 Axes>"
      ]
     },
     "metadata": {},
     "output_type": "display_data"
    }
   ],
   "source": [
    "t.sort_values('count',ascending=False).head(10)['mean'].plot(kind='barh')"
   ]
  },
  {
   "cell_type": "code",
   "execution_count": 28,
   "id": "c1bf66c3-276e-4499-809d-ddb821e8b179",
   "metadata": {},
   "outputs": [
    {
     "data": {
      "text/html": [
       "<div>\n",
       "<style scoped>\n",
       "    .dataframe tbody tr th:only-of-type {\n",
       "        vertical-align: middle;\n",
       "    }\n",
       "\n",
       "    .dataframe tbody tr th {\n",
       "        vertical-align: top;\n",
       "    }\n",
       "\n",
       "    .dataframe thead th {\n",
       "        text-align: right;\n",
       "    }\n",
       "</style>\n",
       "<table border=\"1\" class=\"dataframe\">\n",
       "  <thead>\n",
       "    <tr style=\"text-align: right;\">\n",
       "      <th></th>\n",
       "      <th>count</th>\n",
       "      <th>mean</th>\n",
       "      <th>median</th>\n",
       "    </tr>\n",
       "    <tr>\n",
       "      <th>institution</th>\n",
       "      <th></th>\n",
       "      <th></th>\n",
       "      <th></th>\n",
       "    </tr>\n",
       "  </thead>\n",
       "  <tbody>\n",
       "    <tr>\n",
       "      <th>California Institute of Technology</th>\n",
       "      <td>1</td>\n",
       "      <td>5.000000</td>\n",
       "      <td>5.0</td>\n",
       "    </tr>\n",
       "    <tr>\n",
       "      <th>Columbia University</th>\n",
       "      <td>4</td>\n",
       "      <td>6.750000</td>\n",
       "      <td>6.0</td>\n",
       "    </tr>\n",
       "    <tr>\n",
       "      <th>Harvard University</th>\n",
       "      <td>4</td>\n",
       "      <td>1.000000</td>\n",
       "      <td>1.0</td>\n",
       "    </tr>\n",
       "    <tr>\n",
       "      <th>Massachusetts Institute of Technology</th>\n",
       "      <td>4</td>\n",
       "      <td>3.000000</td>\n",
       "      <td>3.0</td>\n",
       "    </tr>\n",
       "    <tr>\n",
       "      <th>Princeton University</th>\n",
       "      <td>4</td>\n",
       "      <td>8.000000</td>\n",
       "      <td>8.5</td>\n",
       "    </tr>\n",
       "    <tr>\n",
       "      <th>Stanford University</th>\n",
       "      <td>4</td>\n",
       "      <td>2.250000</td>\n",
       "      <td>2.0</td>\n",
       "    </tr>\n",
       "    <tr>\n",
       "      <th>University of California, Berkeley</th>\n",
       "      <td>3</td>\n",
       "      <td>7.000000</td>\n",
       "      <td>7.0</td>\n",
       "    </tr>\n",
       "    <tr>\n",
       "      <th>University of Cambridge</th>\n",
       "      <td>4</td>\n",
       "      <td>4.250000</td>\n",
       "      <td>4.0</td>\n",
       "    </tr>\n",
       "    <tr>\n",
       "      <th>University of Chicago</th>\n",
       "      <td>3</td>\n",
       "      <td>8.333333</td>\n",
       "      <td>8.0</td>\n",
       "    </tr>\n",
       "    <tr>\n",
       "      <th>University of Oxford</th>\n",
       "      <td>4</td>\n",
       "      <td>5.000000</td>\n",
       "      <td>5.0</td>\n",
       "    </tr>\n",
       "    <tr>\n",
       "      <th>Yale University</th>\n",
       "      <td>1</td>\n",
       "      <td>8.000000</td>\n",
       "      <td>8.0</td>\n",
       "    </tr>\n",
       "  </tbody>\n",
       "</table>\n",
       "</div>"
      ],
      "text/plain": [
       "                                       count      mean  median\n",
       "institution                                                   \n",
       "California Institute of Technology         1  5.000000     5.0\n",
       "Columbia University                        4  6.750000     6.0\n",
       "Harvard University                         4  1.000000     1.0\n",
       "Massachusetts Institute of Technology      4  3.000000     3.0\n",
       "Princeton University                       4  8.000000     8.5\n",
       "Stanford University                        4  2.250000     2.0\n",
       "University of California, Berkeley         3  7.000000     7.0\n",
       "University of Cambridge                    4  4.250000     4.0\n",
       "University of Chicago                      3  8.333333     8.0\n",
       "University of Oxford                       4  5.000000     5.0\n",
       "Yale University                            1  8.000000     8.0"
      ]
     },
     "execution_count": 28,
     "metadata": {},
     "output_type": "execute_result"
    }
   ],
   "source": [
    "(df[df['world_rank'] < 10]\n",
    " .groupby('institution')\n",
    " ['world_rank'].agg(['count','mean','median']))"
   ]
  }
 ],
 "metadata": {
  "kernelspec": {
   "display_name": "Python 3 (ipykernel)",
   "language": "python",
   "name": "python3"
  },
  "language_info": {
   "codemirror_mode": {
    "name": "ipython",
    "version": 3
   },
   "file_extension": ".py",
   "mimetype": "text/x-python",
   "name": "python",
   "nbconvert_exporter": "python",
   "pygments_lexer": "ipython3",
   "version": "3.12.4"
  }
 },
 "nbformat": 4,
 "nbformat_minor": 5
}
